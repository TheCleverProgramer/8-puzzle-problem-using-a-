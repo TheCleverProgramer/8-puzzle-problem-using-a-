{
 "cells": [
  {
   "cell_type": "code",
   "execution_count": 9,
   "metadata": {},
   "outputs": [],
   "source": [
    "import numpy as np"
   ]
  },
  {
   "cell_type": "code",
   "execution_count": 10,
   "metadata": {},
   "outputs": [
    {
     "name": "stdout",
     "output_type": "stream",
     "text": [
      "[[1 2 3]\n",
      " [8 6 4]\n",
      " [7 5 0]]\n"
     ]
    }
   ],
   "source": [
    "# storing a state\n",
    "state = np.array([1,2,3,8,6,4,7,5,0]).reshape(3,3)\n",
    "\n",
    "print(state)"
   ]
  },
  {
   "cell_type": "code",
   "execution_count": 1,
   "metadata": {},
   "outputs": [
    {
     "name": "stdout",
     "output_type": "stream",
     "text": [
      "[[1 2 3]\n",
      " [8 6 4]\n",
      " [7 5 0]]\n"
     ]
    }
   ],
   "source": [
    "import numpy as np\n",
    "c_state = np.array([1,2,3,8,6,4,7,5,0]).reshape(3,3)\n",
    "print(c_state)"
   ]
  },
  {
   "cell_type": "code",
   "execution_count": 12,
   "metadata": {},
   "outputs": [
    {
     "data": {
      "text/plain": [
       "[2, 2]"
      ]
     },
     "execution_count": 12,
     "metadata": {},
     "output_type": "execute_result"
    }
   ],
   "source": [
    "# getting location of empty tile i.e. zero\n",
    "\n",
    "zero_location = [x[0] for x in np.where(state==0)] \n",
    "zero_location"
   ]
  },
  {
   "cell_type": "code",
   "execution_count": 13,
   "metadata": {},
   "outputs": [
    {
     "data": {
      "text/plain": [
       "array([[1, 2, 3],\n",
       "       [8, 6, 4],\n",
       "       [7, 5, 0]])"
      ]
     },
     "execution_count": 13,
     "metadata": {},
     "output_type": "execute_result"
    }
   ],
   "source": [
    "# creating copy of state\n",
    "\n",
    "copy = state.copy()\n",
    "copy"
   ]
  },
  {
   "cell_type": "code",
   "execution_count": 14,
   "metadata": {},
   "outputs": [
    {
     "name": "stdout",
     "output_type": "stream",
     "text": [
      "5\n",
      "[[1 2 3]\n",
      " [8 6 4]\n",
      " [7 0 5]]\n"
     ]
    }
   ],
   "source": [
    "# generating new state by swaping value in feasible direction\n",
    "\n",
    "swap_value = state[zero_location[0],zero_location[1]-1] \n",
    "print(swap_value)\n",
    "\n",
    "copy[zero_location[0],zero_location[1]-1] = 0\n",
    "copy[zero_location[0],zero_location[1]] = swap_value\n",
    "print(copy)"
   ]
  },
  {
   "cell_type": "code",
   "execution_count": 3,
   "metadata": {},
   "outputs": [
    {
     "name": "stdout",
     "output_type": "stream",
     "text": [
      "2\n"
     ]
    }
   ],
   "source": [
    "# calculating mismatched tiles\n",
    "import numpy as np\n",
    "state = np.array([1,2,3,8,6,4,7,5,0]).reshape(3,3)\n",
    "c_state = np.array([1,3,2,8,6,4,7,5,0]).reshape(3,3)\n",
    "cost = np.sum(state != c_state)\n",
    "print(cost)"
   ]
  },
  {
   "cell_type": "code",
   "execution_count": 16,
   "metadata": {},
   "outputs": [
    {
     "name": "stdout",
     "output_type": "stream",
     "text": [
      "False\n",
      "False\n"
     ]
    }
   ],
   "source": [
    "# detecting goal state\n",
    "print(np.array_equal(copy,state))\n",
    "print(np.array_equal(c_state,state))\n"
   ]
  },
  {
   "cell_type": "code",
   "execution_count": null,
   "metadata": {},
   "outputs": [],
   "source": []
  }
 ],
 "metadata": {
  "kernelspec": {
   "display_name": "Python 3",
   "language": "python",
   "name": "python3"
  },
  "language_info": {
   "codemirror_mode": {
    "name": "ipython",
    "version": 3
   },
   "file_extension": ".py",
   "mimetype": "text/x-python",
   "name": "python",
   "nbconvert_exporter": "python",
   "pygments_lexer": "ipython3",
   "version": "3.8.5"
  }
 },
 "nbformat": 4,
 "nbformat_minor": 5
}
